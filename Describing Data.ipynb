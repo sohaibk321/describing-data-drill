{
 "cells": [
  {
   "cell_type": "markdown",
   "metadata": {},
   "source": [
    "Geeg=14\n",
    "Marcia=12\n",
    "Peter=11\n",
    "Jan=10\n",
    "Bobby=8\n",
    "Cindy=6\n",
    "Oliver = 8\n",
    "Sum = 69\n",
    "n = 7\n",
    "mean = 69/7 = approx 9.86\n",
    "median = 10\n",
    "mode = 8\n",
    "v = ((14-9.86)^2 + (12-9.86)^2 + (11-9.86)^2 + (10-9.86)^2\n",
    "     + (8-9.86)^2 + (6-9.86)^2) + (8-9.86)^2)/ (7-1)\n",
    "v = (17.14 + 4.58 + 1.3 + .02 + 3.46 + 3.46 + 14.9)\n",
    "v = 7.48\n",
    "std = sqrt(v) = 2.73\n",
    "se = 2.73/sqrt(n) = 1.03"
   ]
  },
  {
   "cell_type": "markdown",
   "metadata": {},
   "source": [
    "I'd choose mean and standard deviation as my measures to focus on as they tell a lot about the central tendency and varaince in between data, without having to worry about too many extreme values affecting the measures."
   ]
  },
  {
   "cell_type": "markdown",
   "metadata": {},
   "source": [
    "Cindy's birthday\n",
    "new mean = 10\n",
    "mode = 7,8\n",
    "v = 7.5\n",
    "std = 2.74\n",
    "se = 1.04\n",
    "From this, all the values of central tendency and variance changed, but only by a small margin. The values are still more or less the same"
   ]
  },
  {
   "cell_type": "markdown",
   "metadata": {},
   "source": [
    "Replace Oliver with Jessice\n",
    "new mean = 62/7 = 8.86\n",
    "mode = none\n",
    "median = 10\n",
    "v = 18.81\n",
    "std = 2.67\n",
    "se = 1.01\n",
    "\n",
    "With this, I would change my central tendency measure from mean to median as the addition of Jessica can be considered an extreme value. I would still keep standard deviaiton as my variance measure as it is still fairly close to the original value before the replacement."
   ]
  },
  {
   "cell_type": "markdown",
   "metadata": {},
   "source": [
    "Of the 4 magazines listed, SciPhi Phanatic seems to be the only one that's a niche magazine while the others are a bit more generalized. With that assumption, we can average out the other 3 percents and we get 20% as the average number of fans of the Brady Bunch."
   ]
  },
  {
   "cell_type": "code",
   "execution_count": null,
   "metadata": {
    "collapsed": true
   },
   "outputs": [],
   "source": []
  }
 ],
 "metadata": {
  "kernelspec": {
   "display_name": "Python 3",
   "language": "python",
   "name": "python3"
  },
  "language_info": {
   "codemirror_mode": {
    "name": "ipython",
    "version": 3
   },
   "file_extension": ".py",
   "mimetype": "text/x-python",
   "name": "python",
   "nbconvert_exporter": "python",
   "pygments_lexer": "ipython3",
   "version": "3.6.3"
  }
 },
 "nbformat": 4,
 "nbformat_minor": 2
}
